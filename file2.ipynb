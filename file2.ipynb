{
 "cells": [
  {
   "cell_type": "code",
   "execution_count": 1,
   "metadata": {},
   "outputs": [],
   "source": [
    "import pandas as pd\n",
    "import numpy as np \n"
   ]
  },
  {
   "cell_type": "code",
   "execution_count": 41,
   "metadata": {},
   "outputs": [
    {
     "data": {
      "text/html": [
       "<div>\n",
       "<style scoped>\n",
       "    .dataframe tbody tr th:only-of-type {\n",
       "        vertical-align: middle;\n",
       "    }\n",
       "\n",
       "    .dataframe tbody tr th {\n",
       "        vertical-align: top;\n",
       "    }\n",
       "\n",
       "    .dataframe thead th {\n",
       "        text-align: right;\n",
       "    }\n",
       "</style>\n",
       "<table border=\"1\" class=\"dataframe\">\n",
       "  <thead>\n",
       "    <tr style=\"text-align: right;\">\n",
       "      <th></th>\n",
       "      <th>ciImpacted</th>\n",
       "      <th>description</th>\n",
       "      <th>kpi</th>\n",
       "      <th>lastModifiedTime</th>\n",
       "      <th>status</th>\n",
       "      <th>alertId</th>\n",
       "    </tr>\n",
       "  </thead>\n",
       "  <tbody>\n",
       "    <tr>\n",
       "      <th>0</th>\n",
       "      <td>M1SCCMHV02.mmi.local</td>\n",
       "      <td>Cluster node M1SCCMHV02.mmi.local in cluster M...</td>\n",
       "      <td>Cluster Node Availability</td>\n",
       "      <td>21-01-2023 09:29</td>\n",
       "      <td>Active</td>\n",
       "      <td>97242184</td>\n",
       "    </tr>\n",
       "    <tr>\n",
       "      <th>1</th>\n",
       "      <td>0004svr.banfield.local</td>\n",
       "      <td>The System Center Management Health Service on...</td>\n",
       "      <td>Heartbeat Status Windows</td>\n",
       "      <td>23-01-2023 06:54</td>\n",
       "      <td>Active</td>\n",
       "      <td>87803708</td>\n",
       "    </tr>\n",
       "    <tr>\n",
       "      <th>2</th>\n",
       "      <td>CTS-DEVSQA-RTR2.mmi.local</td>\n",
       "      <td>Alert will be triggered if any CTS DC node wil...</td>\n",
       "      <td>CTS Node Down</td>\n",
       "      <td>23-01-2023 11:31</td>\n",
       "      <td>Active</td>\n",
       "      <td>87807873</td>\n",
       "    </tr>\n",
       "    <tr>\n",
       "      <th>3</th>\n",
       "      <td>0919SVR.banfield.local</td>\n",
       "      <td>The Windows Storport Miniport Driver has timed...</td>\n",
       "      <td>Request Time Out</td>\n",
       "      <td>24-01-2023 20:14</td>\n",
       "      <td>Active</td>\n",
       "      <td>87822509</td>\n",
       "    </tr>\n",
       "    <tr>\n",
       "      <th>4</th>\n",
       "      <td>DEV04BIZ1.mmi.local</td>\n",
       "      <td>The System Center Management Health Service on...</td>\n",
       "      <td>Heartbeat Status Windows</td>\n",
       "      <td>31-01-2023 05:19</td>\n",
       "      <td>Active</td>\n",
       "      <td>103324401</td>\n",
       "    </tr>\n",
       "    <tr>\n",
       "      <th>...</th>\n",
       "      <td>...</td>\n",
       "      <td>...</td>\n",
       "      <td>...</td>\n",
       "      <td>...</td>\n",
       "      <td>...</td>\n",
       "      <td>...</td>\n",
       "    </tr>\n",
       "    <tr>\n",
       "      <th>9683</th>\n",
       "      <td>0220-64</td>\n",
       "      <td>This alert will write to the SolarWinds event ...</td>\n",
       "      <td>High Response Time</td>\n",
       "      <td>25-08-2023 04:17</td>\n",
       "      <td>Active</td>\n",
       "      <td>165148194</td>\n",
       "    </tr>\n",
       "    <tr>\n",
       "      <th>9684</th>\n",
       "      <td>2161-MR33</td>\n",
       "      <td>APs went down</td>\n",
       "      <td>Access Points Status</td>\n",
       "      <td>25-08-2023 03:37</td>\n",
       "      <td>Active</td>\n",
       "      <td>707407898</td>\n",
       "    </tr>\n",
       "    <tr>\n",
       "      <th>9685</th>\n",
       "      <td>1508-64</td>\n",
       "      <td>Client IP conflict detected</td>\n",
       "      <td>Client IP Conflict Detected</td>\n",
       "      <td>25-08-2023 05:02</td>\n",
       "      <td>Active</td>\n",
       "      <td>769298615</td>\n",
       "    </tr>\n",
       "    <tr>\n",
       "      <th>9686</th>\n",
       "      <td>1063-MR42</td>\n",
       "      <td>APs went down</td>\n",
       "      <td>Access Points Status</td>\n",
       "      <td>25-08-2023 04:51</td>\n",
       "      <td>Active</td>\n",
       "      <td>769299197</td>\n",
       "    </tr>\n",
       "    <tr>\n",
       "      <th>9687</th>\n",
       "      <td>1063-MR33</td>\n",
       "      <td>APs went down</td>\n",
       "      <td>Access Points Status</td>\n",
       "      <td>25-08-2023 04:52</td>\n",
       "      <td>Active</td>\n",
       "      <td>771268994</td>\n",
       "    </tr>\n",
       "  </tbody>\n",
       "</table>\n",
       "<p>9688 rows × 6 columns</p>\n",
       "</div>"
      ],
      "text/plain": [
       "                     ciImpacted  \\\n",
       "0          M1SCCMHV02.mmi.local   \n",
       "1        0004svr.banfield.local   \n",
       "2     CTS-DEVSQA-RTR2.mmi.local   \n",
       "3        0919SVR.banfield.local   \n",
       "4           DEV04BIZ1.mmi.local   \n",
       "...                         ...   \n",
       "9683                    0220-64   \n",
       "9684                  2161-MR33   \n",
       "9685                    1508-64   \n",
       "9686                  1063-MR42   \n",
       "9687                  1063-MR33   \n",
       "\n",
       "                                            description  \\\n",
       "0     Cluster node M1SCCMHV02.mmi.local in cluster M...   \n",
       "1     The System Center Management Health Service on...   \n",
       "2     Alert will be triggered if any CTS DC node wil...   \n",
       "3     The Windows Storport Miniport Driver has timed...   \n",
       "4     The System Center Management Health Service on...   \n",
       "...                                                 ...   \n",
       "9683  This alert will write to the SolarWinds event ...   \n",
       "9684                                      APs went down   \n",
       "9685                        Client IP conflict detected   \n",
       "9686                                      APs went down   \n",
       "9687                                      APs went down   \n",
       "\n",
       "                              kpi  lastModifiedTime  status    alertId  \n",
       "0       Cluster Node Availability  21-01-2023 09:29  Active   97242184  \n",
       "1        Heartbeat Status Windows  23-01-2023 06:54  Active   87803708  \n",
       "2                   CTS Node Down  23-01-2023 11:31  Active   87807873  \n",
       "3                Request Time Out  24-01-2023 20:14  Active   87822509  \n",
       "4        Heartbeat Status Windows  31-01-2023 05:19  Active  103324401  \n",
       "...                           ...               ...     ...        ...  \n",
       "9683           High Response Time  25-08-2023 04:17  Active  165148194  \n",
       "9684         Access Points Status  25-08-2023 03:37  Active  707407898  \n",
       "9685  Client IP Conflict Detected  25-08-2023 05:02  Active  769298615  \n",
       "9686         Access Points Status  25-08-2023 04:51  Active  769299197  \n",
       "9687         Access Points Status  25-08-2023 04:52  Active  771268994  \n",
       "\n",
       "[9688 rows x 6 columns]"
      ]
     },
     "execution_count": 41,
     "metadata": {},
     "output_type": "execute_result"
    }
   ],
   "source": [
    "df=pd.read_csv(\"alerts-data.csv\")\n",
    "df"
   ]
  },
  {
   "cell_type": "code",
   "execution_count": 3,
   "metadata": {},
   "outputs": [],
   "source": [
    "from sklearn.feature_extraction.text import TfidfVectorizer"
   ]
  },
  {
   "cell_type": "code",
   "execution_count": 43,
   "metadata": {},
   "outputs": [
    {
     "data": {
      "text/plain": [
       "0       Cluster node M1SCCMHV02.mmi.local in cluster M...\n",
       "1       The System Center Management Health Service on...\n",
       "2       Alert will be triggered if any CTS DC node wil...\n",
       "3       The Windows Storport Miniport Driver has timed...\n",
       "4       The System Center Management Health Service on...\n",
       "                              ...                        \n",
       "9683    This alert will write to the SolarWinds event ...\n",
       "9684                                        APs went down\n",
       "9685                          Client IP conflict detected\n",
       "9686                                        APs went down\n",
       "9687                                        APs went down\n",
       "Name: description, Length: 9688, dtype: object"
      ]
     },
     "execution_count": 43,
     "metadata": {},
     "output_type": "execute_result"
    }
   ],
   "source": [
    "df[\"description\"]"
   ]
  },
  {
   "cell_type": "code",
   "execution_count": 5,
   "metadata": {},
   "outputs": [
    {
     "data": {
      "text/plain": [
       "ciImpacted             0\n",
       "description         7456\n",
       "kpi                    0\n",
       "lastModifiedTime       0\n",
       "status                 0\n",
       "alertId                0\n",
       "dtype: int64"
      ]
     },
     "execution_count": 5,
     "metadata": {},
     "output_type": "execute_result"
    }
   ],
   "source": [
    "df.isnull().sum() "
   ]
  },
  {
   "cell_type": "code",
   "execution_count": 44,
   "metadata": {},
   "outputs": [],
   "source": [
    "df['new_desc']=df['description'].fillna(\"\")"
   ]
  },
  {
   "cell_type": "code",
   "execution_count": 45,
   "metadata": {},
   "outputs": [],
   "source": [
    "# df.isnull().sum() "
   ]
  },
  {
   "cell_type": "code",
   "execution_count": null,
   "metadata": {},
   "outputs": [],
   "source": []
  },
  {
   "cell_type": "code",
   "execution_count": 46,
   "metadata": {},
   "outputs": [],
   "source": [
    "from sklearn.feature_extraction.text import TfidfVectorizer"
   ]
  },
  {
   "cell_type": "code",
   "execution_count": 47,
   "metadata": {},
   "outputs": [
    {
     "data": {
      "text/plain": [
       "array(['00', '00 00', '00 21', ..., 'your network', 'zk7rp473khyf7',\n",
       "       'zk7rp473khyf7 1vk65nw7tlap'], dtype=object)"
      ]
     },
     "execution_count": 47,
     "metadata": {},
     "output_type": "execute_result"
    }
   ],
   "source": [
    "vectorizer=TfidfVectorizer(ngram_range=(1,2))\n",
    "x=vectorizer.fit_transform(df['new_desc'])\n",
    "vectorizer.get_feature_names_out(df['new_desc']) \n"
   ]
  },
  {
   "cell_type": "code",
   "execution_count": null,
   "metadata": {},
   "outputs": [],
   "source": []
  },
  {
   "cell_type": "code",
   "execution_count": 48,
   "metadata": {},
   "outputs": [
    {
     "name": "stdout",
     "output_type": "stream",
     "text": [
      "  (0, 2057)\t0.23727337180350758\n",
      "  (0, 1706)\t0.19701479168474706\n",
      "  (0, 1876)\t0.23727337180350758\n",
      "  (0, 960)\t0.23727337180350758\n",
      "  (0, 1644)\t0.23727337180350758\n",
      "  (0, 1779)\t0.23727337180350758\n",
      "  (0, 1954)\t0.15675621156598657\n",
      "  (0, 1872)\t0.23727337180350758\n",
      "  (0, 2043)\t0.23727337180350758\n",
      "  (0, 961)\t0.227131042351701\n",
      "  (0, 2366)\t0.20259651836656817\n",
      "  (0, 2050)\t0.17729227019620775\n",
      "  (0, 1693)\t0.14981151402593149\n",
      "  (0, 1875)\t0.23727337180350758\n",
      "  (0, 1641)\t0.18095941862476442\n",
      "  (0, 1771)\t0.15137540212695172\n",
      "  (0, 1953)\t0.15675621156598657\n",
      "  (0, 1871)\t0.23727337180350758\n",
      "  (0, 2037)\t0.09846843722172742\n",
      "  (0, 959)\t0.43986989017007566\n",
      "  (1, 2764)\t0.19007796331605167\n",
      "  (1, 1414)\t0.19007796331605167\n",
      "  (1, 1776)\t0.19190536258422386\n",
      "  (1, 807)\t0.2155836093196457\n",
      "  (1, 15)\t0.26858342815562164\n",
      "  :\t:\n",
      "  (9683, 2756)\t0.09121744530815555\n",
      "  (9683, 2641)\t0.2716979514136864\n",
      "  (9683, 2037)\t0.10642132405626528\n",
      "  (9684, 686)\t0.5036614842498829\n",
      "  (9684, 685)\t0.5036614842498829\n",
      "  (9684, 2922)\t0.4658994937748603\n",
      "  (9684, 2921)\t0.4658994937748603\n",
      "  (9684, 1218)\t0.24192052820516843\n",
      "  (9685, 1053)\t0.37825491049912413\n",
      "  (9685, 1689)\t0.37825491049912413\n",
      "  (9685, 937)\t0.37825491049912413\n",
      "  (9685, 1052)\t0.37825491049912413\n",
      "  (9685, 1688)\t0.37757477192645905\n",
      "  (9685, 936)\t0.37825491049912413\n",
      "  (9685, 1162)\t0.3768997280725741\n",
      "  (9686, 686)\t0.5036614842498829\n",
      "  (9686, 685)\t0.5036614842498829\n",
      "  (9686, 2922)\t0.4658994937748603\n",
      "  (9686, 2921)\t0.4658994937748603\n",
      "  (9686, 1218)\t0.24192052820516843\n",
      "  (9687, 686)\t0.5036614842498829\n",
      "  (9687, 685)\t0.5036614842498829\n",
      "  (9687, 2922)\t0.4658994937748603\n",
      "  (9687, 2921)\t0.4658994937748603\n",
      "  (9687, 1218)\t0.24192052820516843\n"
     ]
    }
   ],
   "source": [
    "print(x)"
   ]
  },
  {
   "cell_type": "code",
   "execution_count": 50,
   "metadata": {},
   "outputs": [],
   "source": [
    "from sklearn.preprocessing import LabelEncoder\n",
    "label_encoder=LabelEncoder()\n",
    "df['KPI']=label_encoder.fit_transform(df['kpi'])"
   ]
  },
  {
   "cell_type": "code",
   "execution_count": 52,
   "metadata": {},
   "outputs": [],
   "source": [
    "y=df['kpi']"
   ]
  },
  {
   "cell_type": "code",
   "execution_count": 54,
   "metadata": {},
   "outputs": [],
   "source": [
    "from sklearn.model_selection import train_test_split\n",
    "x_train,x_test, y_train,y_test=train_test_split(x,y,test_size=0.2,random_state=42,shuffle=True)\n"
   ]
  },
  {
   "cell_type": "code",
   "execution_count": 56,
   "metadata": {},
   "outputs": [
    {
     "data": {
      "text/html": [
       "<style>#sk-container-id-1 {color: black;}#sk-container-id-1 pre{padding: 0;}#sk-container-id-1 div.sk-toggleable {background-color: white;}#sk-container-id-1 label.sk-toggleable__label {cursor: pointer;display: block;width: 100%;margin-bottom: 0;padding: 0.3em;box-sizing: border-box;text-align: center;}#sk-container-id-1 label.sk-toggleable__label-arrow:before {content: \"▸\";float: left;margin-right: 0.25em;color: #696969;}#sk-container-id-1 label.sk-toggleable__label-arrow:hover:before {color: black;}#sk-container-id-1 div.sk-estimator:hover label.sk-toggleable__label-arrow:before {color: black;}#sk-container-id-1 div.sk-toggleable__content {max-height: 0;max-width: 0;overflow: hidden;text-align: left;background-color: #f0f8ff;}#sk-container-id-1 div.sk-toggleable__content pre {margin: 0.2em;color: black;border-radius: 0.25em;background-color: #f0f8ff;}#sk-container-id-1 input.sk-toggleable__control:checked~div.sk-toggleable__content {max-height: 200px;max-width: 100%;overflow: auto;}#sk-container-id-1 input.sk-toggleable__control:checked~label.sk-toggleable__label-arrow:before {content: \"▾\";}#sk-container-id-1 div.sk-estimator input.sk-toggleable__control:checked~label.sk-toggleable__label {background-color: #d4ebff;}#sk-container-id-1 div.sk-label input.sk-toggleable__control:checked~label.sk-toggleable__label {background-color: #d4ebff;}#sk-container-id-1 input.sk-hidden--visually {border: 0;clip: rect(1px 1px 1px 1px);clip: rect(1px, 1px, 1px, 1px);height: 1px;margin: -1px;overflow: hidden;padding: 0;position: absolute;width: 1px;}#sk-container-id-1 div.sk-estimator {font-family: monospace;background-color: #f0f8ff;border: 1px dotted black;border-radius: 0.25em;box-sizing: border-box;margin-bottom: 0.5em;}#sk-container-id-1 div.sk-estimator:hover {background-color: #d4ebff;}#sk-container-id-1 div.sk-parallel-item::after {content: \"\";width: 100%;border-bottom: 1px solid gray;flex-grow: 1;}#sk-container-id-1 div.sk-label:hover label.sk-toggleable__label {background-color: #d4ebff;}#sk-container-id-1 div.sk-serial::before {content: \"\";position: absolute;border-left: 1px solid gray;box-sizing: border-box;top: 0;bottom: 0;left: 50%;z-index: 0;}#sk-container-id-1 div.sk-serial {display: flex;flex-direction: column;align-items: center;background-color: white;padding-right: 0.2em;padding-left: 0.2em;position: relative;}#sk-container-id-1 div.sk-item {position: relative;z-index: 1;}#sk-container-id-1 div.sk-parallel {display: flex;align-items: stretch;justify-content: center;background-color: white;position: relative;}#sk-container-id-1 div.sk-item::before, #sk-container-id-1 div.sk-parallel-item::before {content: \"\";position: absolute;border-left: 1px solid gray;box-sizing: border-box;top: 0;bottom: 0;left: 50%;z-index: -1;}#sk-container-id-1 div.sk-parallel-item {display: flex;flex-direction: column;z-index: 1;position: relative;background-color: white;}#sk-container-id-1 div.sk-parallel-item:first-child::after {align-self: flex-end;width: 50%;}#sk-container-id-1 div.sk-parallel-item:last-child::after {align-self: flex-start;width: 50%;}#sk-container-id-1 div.sk-parallel-item:only-child::after {width: 0;}#sk-container-id-1 div.sk-dashed-wrapped {border: 1px dashed gray;margin: 0 0.4em 0.5em 0.4em;box-sizing: border-box;padding-bottom: 0.4em;background-color: white;}#sk-container-id-1 div.sk-label label {font-family: monospace;font-weight: bold;display: inline-block;line-height: 1.2em;}#sk-container-id-1 div.sk-label-container {text-align: center;}#sk-container-id-1 div.sk-container {/* jupyter's `normalize.less` sets `[hidden] { display: none; }` but bootstrap.min.css set `[hidden] { display: none !important; }` so we also need the `!important` here to be able to override the default hidden behavior on the sphinx rendered scikit-learn.org. See: https://github.com/scikit-learn/scikit-learn/issues/21755 */display: inline-block !important;position: relative;}#sk-container-id-1 div.sk-text-repr-fallback {display: none;}</style><div id=\"sk-container-id-1\" class=\"sk-top-container\"><div class=\"sk-text-repr-fallback\"><pre>RandomForestClassifier(random_state=42)</pre><b>In a Jupyter environment, please rerun this cell to show the HTML representation or trust the notebook. <br />On GitHub, the HTML representation is unable to render, please try loading this page with nbviewer.org.</b></div><div class=\"sk-container\" hidden><div class=\"sk-item\"><div class=\"sk-estimator sk-toggleable\"><input class=\"sk-toggleable__control sk-hidden--visually\" id=\"sk-estimator-id-1\" type=\"checkbox\" checked><label for=\"sk-estimator-id-1\" class=\"sk-toggleable__label sk-toggleable__label-arrow\">RandomForestClassifier</label><div class=\"sk-toggleable__content\"><pre>RandomForestClassifier(random_state=42)</pre></div></div></div></div></div>"
      ],
      "text/plain": [
       "RandomForestClassifier(random_state=42)"
      ]
     },
     "execution_count": 56,
     "metadata": {},
     "output_type": "execute_result"
    }
   ],
   "source": [
    "from sklearn.ensemble import RandomForestClassifier\n",
    "classifier_rf=RandomForestClassifier(random_state=42,n_estimators=100)\n",
    "classifier_rf.fit(x_train,y_train)  "
   ]
  },
  {
   "cell_type": "code",
   "execution_count": 57,
   "metadata": {},
   "outputs": [],
   "source": [
    "y_pred=classifier_rf.predict(x_test) "
   ]
  },
  {
   "cell_type": "code",
   "execution_count": 58,
   "metadata": {},
   "outputs": [],
   "source": [
    "from sklearn.metrics import accuracy_score "
   ]
  },
  {
   "cell_type": "code",
   "execution_count": 59,
   "metadata": {},
   "outputs": [
    {
     "data": {
      "text/plain": [
       "0.9917440660474717"
      ]
     },
     "execution_count": 59,
     "metadata": {},
     "output_type": "execute_result"
    }
   ],
   "source": [
    "accuracy_score(y_test,y_pred) "
   ]
  },
  {
   "cell_type": "code",
   "execution_count": null,
   "metadata": {},
   "outputs": [],
   "source": []
  }
 ],
 "metadata": {
  "kernelspec": {
   "display_name": "Python 3 (ipykernel)",
   "language": "python",
   "name": "python3"
  }
 },
 "nbformat": 4,
 "nbformat_minor": 2
}
